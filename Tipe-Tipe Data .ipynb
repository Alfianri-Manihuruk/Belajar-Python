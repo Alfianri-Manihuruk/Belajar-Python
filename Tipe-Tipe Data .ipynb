{
 "cells": [
  {
   "cell_type": "markdown",
   "id": "e0c031ec",
   "metadata": {},
   "source": [
    "# Grup  Belajar Semester 3 Prodi Sains Data"
   ]
  },
  {
   "cell_type": "markdown",
   "id": "ca3f3c11",
   "metadata": {},
   "source": [
    "## Belajar Python"
   ]
  },
  {
   "cell_type": "markdown",
   "id": "f3e86712",
   "metadata": {},
   "source": [
    "## 1. Variabel"
   ]
  },
  {
   "cell_type": "markdown",
   "id": "5cc2c617",
   "metadata": {},
   "source": [
    "Variabel adalah memori yang dicadangkan untuk menyimpan nilai-nilai. \n",
    "Artinya dengan variabel, kita dapat menyimpan nilai dalam program yang nantinya akan kita tampilkan. \n",
    "Namun variabel hanya bersifat sementara.\n",
    "\n",
    "Berikut ini merupakan aturan-aturan dalam membuat variabel.\n",
    "- Karakter hanya bisa menggunakan huruf dan garis bawah(_). Untuk susunannya terserah anda\n",
    "- Karakter juga bisa menggunakan angka. asalkan dikombinasikan dengan huruf atau garis bawah (contoh : var_nama1, var_nama2).\n",
    "- Karakter bersifat case sensitive. "
   ]
  },
  {
   "cell_type": "code",
   "execution_count": 82,
   "id": "594ec700",
   "metadata": {},
   "outputs": [
    {
     "data": {
      "text/plain": [
       "10"
      ]
     },
     "execution_count": 82,
     "metadata": {},
     "output_type": "execute_result"
    }
   ],
   "source": [
    "#deklarasi Variabel\n",
    "varibel = 10\n",
    "varibel"
   ]
  },
  {
   "cell_type": "code",
   "execution_count": 91,
   "id": "64b12b80",
   "metadata": {},
   "outputs": [
    {
     "data": {
      "text/plain": [
       "'saya senang belajar'"
      ]
     },
     "execution_count": 91,
     "metadata": {},
     "output_type": "execute_result"
    }
   ],
   "source": [
    "Variabel_1 = \"saya senang belajar\"\n",
    "Variabel_1"
   ]
  },
  {
   "cell_type": "code",
   "execution_count": null,
   "id": "0bd0e3f6",
   "metadata": {},
   "outputs": [],
   "source": []
  },
  {
   "cell_type": "code",
   "execution_count": 7,
   "id": "d08353dc",
   "metadata": {},
   "outputs": [
    {
     "name": "stdout",
     "output_type": "stream",
     "text": [
      "sains data 1\n"
     ]
    }
   ],
   "source": [
    "var1 = \"sains data 1\"\n",
    "print(var1)"
   ]
  },
  {
   "cell_type": "code",
   "execution_count": 93,
   "id": "00a0948f",
   "metadata": {},
   "outputs": [],
   "source": [
    "var_a = \"sains data 2\""
   ]
  },
  {
   "cell_type": "code",
   "execution_count": 94,
   "id": "4a5c1362",
   "metadata": {},
   "outputs": [
    {
     "name": "stdout",
     "output_type": "stream",
     "text": [
      "sains data 2\n"
     ]
    }
   ],
   "source": [
    "var_a = \"sains data 2\"\n",
    "print(var_a)"
   ]
  },
  {
   "cell_type": "code",
   "execution_count": 98,
   "id": "312f6eef",
   "metadata": {},
   "outputs": [
    {
     "data": {
      "text/plain": [
       "'belajar'"
      ]
     },
     "execution_count": 98,
     "metadata": {},
     "output_type": "execute_result"
    }
   ],
   "source": [
    "saya3senang = \"belajar\"\n",
    "saya3senang"
   ]
  },
  {
   "cell_type": "code",
   "execution_count": 103,
   "id": "649eb098",
   "metadata": {},
   "outputs": [
    {
     "ename": "SyntaxError",
     "evalue": "invalid syntax (1973759008.py, line 1)",
     "output_type": "error",
     "traceback": [
      "\u001b[1;36m  Input \u001b[1;32mIn [103]\u001b[1;36m\u001b[0m\n\u001b[1;33m    for = 12\u001b[0m\n\u001b[1;37m        ^\u001b[0m\n\u001b[1;31mSyntaxError\u001b[0m\u001b[1;31m:\u001b[0m invalid syntax\n"
     ]
    }
   ],
   "source": [
    " = 12 "
   ]
  },
  {
   "cell_type": "markdown",
   "id": "b830c301",
   "metadata": {},
   "source": [
    "## 2. Tipe Data"
   ]
  },
  {
   "cell_type": "markdown",
   "id": "619351ba",
   "metadata": {},
   "source": [
    "### a. string"
   ]
  },
  {
   "cell_type": "code",
   "execution_count": 52,
   "id": "1d284de8",
   "metadata": {},
   "outputs": [
    {
     "name": "stdout",
     "output_type": "stream",
     "text": [
      "saya senang belajar python\n"
     ]
    }
   ],
   "source": [
    "print(\"saya senang belajar python\")\n"
   ]
  },
  {
   "cell_type": "code",
   "execution_count": 17,
   "id": "6c3035bc",
   "metadata": {},
   "outputs": [
    {
     "name": "stdout",
     "output_type": "stream",
     "text": [
      " prodi: Sains Data 2020 prodi: Sains data 2021\n"
     ]
    }
   ],
   "source": [
    "print(\" prodi: Sains Data 2020\", \"prodi: Sains data 2021\")"
   ]
  },
  {
   "cell_type": "markdown",
   "id": "d8a68951",
   "metadata": {},
   "source": [
    "### b. Integer(int)"
   ]
  },
  {
   "cell_type": "code",
   "execution_count": 104,
   "id": "f160ed91",
   "metadata": {},
   "outputs": [
    {
     "name": "stdout",
     "output_type": "stream",
     "text": [
      "300\n"
     ]
    }
   ],
   "source": [
    "#b. Integer(int)\n",
    "print(300)"
   ]
  },
  {
   "cell_type": "code",
   "execution_count": 121,
   "id": "849a9e32",
   "metadata": {},
   "outputs": [],
   "source": [
    "a, a= 22, 20\n"
   ]
  },
  {
   "cell_type": "code",
   "execution_count": 123,
   "id": "f1974767",
   "metadata": {},
   "outputs": [],
   "source": [
    "a= 20\n",
    "b= 29"
   ]
  },
  {
   "cell_type": "code",
   "execution_count": 124,
   "id": "cf3551bf",
   "metadata": {},
   "outputs": [
    {
     "data": {
      "text/plain": [
       "20"
      ]
     },
     "execution_count": 124,
     "metadata": {},
     "output_type": "execute_result"
    }
   ],
   "source": [
    "a"
   ]
  },
  {
   "cell_type": "code",
   "execution_count": 106,
   "id": "cf493407",
   "metadata": {},
   "outputs": [
    {
     "data": {
      "text/plain": [
       "int"
      ]
     },
     "execution_count": 106,
     "metadata": {},
     "output_type": "execute_result"
    }
   ],
   "source": [
    "type(integer)"
   ]
  },
  {
   "cell_type": "markdown",
   "id": "62cb343c",
   "metadata": {},
   "source": [
    "### c. float"
   ]
  },
  {
   "cell_type": "code",
   "execution_count": 108,
   "id": "c657a480",
   "metadata": {},
   "outputs": [
    {
     "name": "stdout",
     "output_type": "stream",
     "text": [
      "3.15\n"
     ]
    }
   ],
   "source": [
    "print(3.15)"
   ]
  },
  {
   "cell_type": "code",
   "execution_count": 112,
   "id": "dfe0194b",
   "metadata": {},
   "outputs": [
    {
     "name": "stdout",
     "output_type": "stream",
     "text": [
      "4.0\n"
     ]
    }
   ],
   "source": [
    "float = 4.0\n",
    "print(float)\n",
    "\n",
    "bc= 3.09"
   ]
  },
  {
   "cell_type": "code",
   "execution_count": 113,
   "id": "8f56120a",
   "metadata": {},
   "outputs": [
    {
     "data": {
      "text/plain": [
       "float"
      ]
     },
     "execution_count": 113,
     "metadata": {},
     "output_type": "execute_result"
    }
   ],
   "source": [
    "type(bc)"
   ]
  },
  {
   "cell_type": "markdown",
   "id": "9b9d7429",
   "metadata": {},
   "source": [
    "### d. list"
   ]
  },
  {
   "cell_type": "markdown",
   "id": "9d96164a",
   "metadata": {},
   "source": [
    "Pada Python, list merupakan tipe data yang dapat memuat banyak nilai. \n",
    "Dalam bahasa pemrograman lain mungkin lebih familiar dengan sebutan array."
   ]
  },
  {
   "cell_type": "code",
   "execution_count": 126,
   "id": "a02fc622",
   "metadata": {},
   "outputs": [
    {
     "data": {
      "text/plain": [
       "['apel', 'semangka', 'anggur', 'jambu']"
      ]
     },
     "execution_count": 126,
     "metadata": {},
     "output_type": "execute_result"
    }
   ],
   "source": [
    "buah = [\"apel\", \"semangka\", \"anggur\", \"jambu\"]\n",
    "\n",
    "buah"
   ]
  },
  {
   "cell_type": "code",
   "execution_count": 128,
   "id": "c2160e79",
   "metadata": {},
   "outputs": [
    {
     "data": {
      "text/plain": [
       "[1, 2, 'mangga', 'apel']"
      ]
     },
     "execution_count": 128,
     "metadata": {},
     "output_type": "execute_result"
    }
   ],
   "source": [
    "bil = [1, 2, \"mangga\", \"apel\"]\n",
    "bil"
   ]
  },
  {
   "cell_type": "code",
   "execution_count": 131,
   "id": "f27ca128",
   "metadata": {},
   "outputs": [
    {
     "data": {
      "text/plain": [
       "['B', 'a', 'n', ' ', 'd', 'u', 'n', 'g']"
      ]
     },
     "execution_count": 131,
     "metadata": {},
     "output_type": "execute_result"
    }
   ],
   "source": [
    "kota = list(\"Ban dung\")\n",
    "kota"
   ]
  },
  {
   "cell_type": "code",
   "execution_count": 132,
   "id": "612b9c67",
   "metadata": {},
   "outputs": [
    {
     "data": {
      "text/plain": [
       "list"
      ]
     },
     "execution_count": 132,
     "metadata": {},
     "output_type": "execute_result"
    }
   ],
   "source": [
    "type(kota)"
   ]
  },
  {
   "cell_type": "code",
   "execution_count": 133,
   "id": "1c1488f0",
   "metadata": {},
   "outputs": [
    {
     "data": {
      "text/plain": [
       "list"
      ]
     },
     "execution_count": 133,
     "metadata": {},
     "output_type": "execute_result"
    }
   ],
   "source": [
    "type(buah)"
   ]
  },
  {
   "cell_type": "code",
   "execution_count": 136,
   "id": "2dbcbddb",
   "metadata": {},
   "outputs": [],
   "source": [
    "genap = [2, 4, 6, 8, 10]"
   ]
  },
  {
   "cell_type": "code",
   "execution_count": 134,
   "id": "6f057ac6",
   "metadata": {},
   "outputs": [],
   "source": [
    "list_kosong = []"
   ]
  },
  {
   "cell_type": "code",
   "execution_count": 135,
   "id": "c078233f",
   "metadata": {},
   "outputs": [
    {
     "data": {
      "text/plain": [
       "[]"
      ]
     },
     "execution_count": 135,
     "metadata": {},
     "output_type": "execute_result"
    }
   ],
   "source": [
    "list_kosong"
   ]
  },
  {
   "cell_type": "code",
   "execution_count": 137,
   "id": "2f00d321",
   "metadata": {},
   "outputs": [
    {
     "data": {
      "text/plain": [
       "'apel'"
      ]
     },
     "execution_count": 137,
     "metadata": {},
     "output_type": "execute_result"
    }
   ],
   "source": [
    "# mengakses item dalam list\n",
    "buah = [\"apel\", \"semangka\", \"anggur\", \"jambu\"]\n",
    "\n",
    "buah[0]"
   ]
  },
  {
   "cell_type": "code",
   "execution_count": 138,
   "id": "f599a22c",
   "metadata": {},
   "outputs": [
    {
     "data": {
      "text/plain": [
       "'jambu'"
      ]
     },
     "execution_count": 138,
     "metadata": {},
     "output_type": "execute_result"
    }
   ],
   "source": [
    "buah[-1]"
   ]
  },
  {
   "cell_type": "code",
   "execution_count": 139,
   "id": "f54841c7",
   "metadata": {},
   "outputs": [
    {
     "data": {
      "text/plain": [
       "['apel', 'semangka', 'anggur', 'jambu']"
      ]
     },
     "execution_count": 139,
     "metadata": {},
     "output_type": "execute_result"
    }
   ],
   "source": [
    "buah[:]"
   ]
  },
  {
   "cell_type": "code",
   "execution_count": 140,
   "id": "ad3bebe4",
   "metadata": {},
   "outputs": [
    {
     "ename": "IndexError",
     "evalue": "list index out of range",
     "output_type": "error",
     "traceback": [
      "\u001b[1;31m---------------------------------------------------------------------------\u001b[0m",
      "\u001b[1;31mIndexError\u001b[0m                                Traceback (most recent call last)",
      "Input \u001b[1;32mIn [140]\u001b[0m, in \u001b[0;36m<cell line: 1>\u001b[1;34m()\u001b[0m\n\u001b[1;32m----> 1\u001b[0m \u001b[43mbuah\u001b[49m\u001b[43m[\u001b[49m\u001b[38;5;241;43m6\u001b[39;49m\u001b[43m]\u001b[49m\n",
      "\u001b[1;31mIndexError\u001b[0m: list index out of range"
     ]
    }
   ],
   "source": [
    "buah[6] # ada yang tau kenapa eror gak?"
   ]
  },
  {
   "cell_type": "code",
   "execution_count": 141,
   "id": "2b7ee395",
   "metadata": {},
   "outputs": [
    {
     "data": {
      "text/plain": [
       "[2, 4, 6, 8, 10]"
      ]
     },
     "execution_count": 141,
     "metadata": {},
     "output_type": "execute_result"
    }
   ],
   "source": [
    "# mengubah nilai item dalam list\n",
    "genap"
   ]
  },
  {
   "cell_type": "code",
   "execution_count": 142,
   "id": "e37888de",
   "metadata": {},
   "outputs": [],
   "source": [
    "genap[2] = 20"
   ]
  },
  {
   "cell_type": "code",
   "execution_count": 143,
   "id": "10e8ea42",
   "metadata": {},
   "outputs": [
    {
     "data": {
      "text/plain": [
       "[2, 4, 20, 8, 10]"
      ]
     },
     "execution_count": 143,
     "metadata": {},
     "output_type": "execute_result"
    }
   ],
   "source": [
    "genap"
   ]
  },
  {
   "cell_type": "code",
   "execution_count": 144,
   "id": "bd0c6cc4",
   "metadata": {},
   "outputs": [],
   "source": [
    "genap[0]= 180"
   ]
  },
  {
   "cell_type": "code",
   "execution_count": 145,
   "id": "a86a633d",
   "metadata": {},
   "outputs": [
    {
     "data": {
      "text/plain": [
       "[180, 4, 20, 8, 10]"
      ]
     },
     "execution_count": 145,
     "metadata": {},
     "output_type": "execute_result"
    }
   ],
   "source": [
    "genap"
   ]
  },
  {
   "cell_type": "code",
   "execution_count": 54,
   "id": "b059ebbc",
   "metadata": {},
   "outputs": [],
   "source": [
    "#Menambah dan Mengurangi Item dalam List"
   ]
  },
  {
   "cell_type": "markdown",
   "id": "f80e86f0",
   "metadata": {},
   "source": [
    "Untuk menambah dan mengurangi item dalam sebuah list, \n",
    "kita dapat menggunakan method yang sudah tersedia pada python. Yaitu append dan pop"
   ]
  },
  {
   "cell_type": "code",
   "execution_count": 147,
   "id": "62db80cf",
   "metadata": {},
   "outputs": [
    {
     "data": {
      "text/plain": [
       "[]"
      ]
     },
     "execution_count": 147,
     "metadata": {},
     "output_type": "execute_result"
    }
   ],
   "source": [
    "daftar_kosong = []\n",
    "daftar_kosong"
   ]
  },
  {
   "cell_type": "code",
   "execution_count": 148,
   "id": "71acd3da",
   "metadata": {},
   "outputs": [],
   "source": [
    "daftar_kosong.append(\"pisang\") #menambahakan pisang"
   ]
  },
  {
   "cell_type": "code",
   "execution_count": 149,
   "id": "a7fdab6e",
   "metadata": {},
   "outputs": [
    {
     "data": {
      "text/plain": [
       "['pisang']"
      ]
     },
     "execution_count": 149,
     "metadata": {},
     "output_type": "execute_result"
    }
   ],
   "source": [
    "daftar_kosong"
   ]
  },
  {
   "cell_type": "code",
   "execution_count": 157,
   "id": "a927443e",
   "metadata": {},
   "outputs": [],
   "source": [
    "daftar_kosong.append(\"ayam geprek\")"
   ]
  },
  {
   "cell_type": "code",
   "execution_count": 153,
   "id": "b372718f",
   "metadata": {},
   "outputs": [
    {
     "data": {
      "text/plain": [
       "['pisang', 'ayam geprek', 100, 100]"
      ]
     },
     "execution_count": 153,
     "metadata": {},
     "output_type": "execute_result"
    }
   ],
   "source": [
    "daftar_kosong.append(100)\n",
    "daftar_kosong"
   ]
  },
  {
   "cell_type": "code",
   "execution_count": 155,
   "id": "d6dfe386",
   "metadata": {},
   "outputs": [
    {
     "data": {
      "text/plain": [
       "100"
      ]
     },
     "execution_count": 155,
     "metadata": {},
     "output_type": "execute_result"
    }
   ],
   "source": [
    "daftar_kosong.pop(1)\n"
   ]
  },
  {
   "cell_type": "code",
   "execution_count": 158,
   "id": "1eda64ac",
   "metadata": {},
   "outputs": [
    {
     "data": {
      "text/plain": [
       "['pisang', 100, 'ayam geprek']"
      ]
     },
     "execution_count": 158,
     "metadata": {},
     "output_type": "execute_result"
    }
   ],
   "source": [
    "daftar_kosong"
   ]
  },
  {
   "cell_type": "code",
   "execution_count": 160,
   "id": "4c6a0dc0",
   "metadata": {},
   "outputs": [
    {
     "data": {
      "text/plain": [
       "'pisang'"
      ]
     },
     "execution_count": 160,
     "metadata": {},
     "output_type": "execute_result"
    }
   ],
   "source": [
    "daftar_kosong.pop(0)"
   ]
  },
  {
   "cell_type": "code",
   "execution_count": 163,
   "id": "78190cbb",
   "metadata": {},
   "outputs": [
    {
     "data": {
      "text/plain": [
       "[100, 'ayam geprek']"
      ]
     },
     "execution_count": 163,
     "metadata": {},
     "output_type": "execute_result"
    }
   ],
   "source": [
    "daftar_kosong"
   ]
  },
  {
   "cell_type": "code",
   "execution_count": 166,
   "id": "fa2c358c",
   "metadata": {},
   "outputs": [],
   "source": [
    "genap = [2, 4, 6, 8, 10]"
   ]
  },
  {
   "cell_type": "code",
   "execution_count": 167,
   "id": "48943636",
   "metadata": {},
   "outputs": [
    {
     "data": {
      "text/plain": [
       "6"
      ]
     },
     "execution_count": 167,
     "metadata": {},
     "output_type": "execute_result"
    }
   ],
   "source": [
    "genap.pop(2)"
   ]
  },
  {
   "cell_type": "code",
   "execution_count": 168,
   "id": "9915f239",
   "metadata": {},
   "outputs": [
    {
     "data": {
      "text/plain": [
       "[2, 4, 8, 10]"
      ]
     },
     "execution_count": 168,
     "metadata": {},
     "output_type": "execute_result"
    }
   ],
   "source": [
    "genap"
   ]
  },
  {
   "cell_type": "code",
   "execution_count": null,
   "id": "619a1a79",
   "metadata": {},
   "outputs": [],
   "source": []
  },
  {
   "cell_type": "code",
   "execution_count": null,
   "id": "46b17561",
   "metadata": {},
   "outputs": [],
   "source": []
  },
  {
   "cell_type": "code",
   "execution_count": 86,
   "id": "363d881c",
   "metadata": {},
   "outputs": [
    {
     "data": {
      "text/plain": [
       "[10, 'ayam geprek']"
      ]
     },
     "execution_count": 86,
     "metadata": {},
     "output_type": "execute_result"
    }
   ],
   "source": [
    "daftar_kosong"
   ]
  },
  {
   "cell_type": "code",
   "execution_count": 90,
   "id": "f23a0915",
   "metadata": {},
   "outputs": [],
   "source": [
    "#Mencari Panjang Sebuah List"
   ]
  },
  {
   "cell_type": "code",
   "execution_count": 171,
   "id": "3c7ca466",
   "metadata": {
    "scrolled": true
   },
   "outputs": [
    {
     "data": {
      "text/plain": [
       "12"
      ]
     },
     "execution_count": 171,
     "metadata": {},
     "output_type": "execute_result"
    }
   ],
   "source": [
    "angka = [1, 2, 3, 4, 5, 6, 7, 8, 9, 20 ,20, 200]\n",
    "len(angka)"
   ]
  },
  {
   "cell_type": "code",
   "execution_count": 172,
   "id": "e9ee7723",
   "metadata": {},
   "outputs": [],
   "source": [
    "# mengurutkan list\n",
    "bilangan = [1, 23, 5, 30 , 23, 14, 400 , 12, 34]"
   ]
  },
  {
   "cell_type": "code",
   "execution_count": 174,
   "id": "0783c915",
   "metadata": {},
   "outputs": [
    {
     "data": {
      "text/plain": [
       "[1, 5, 12, 14, 23, 23, 30, 34, 400]"
      ]
     },
     "execution_count": 174,
     "metadata": {},
     "output_type": "execute_result"
    }
   ],
   "source": [
    "bilangan.sort()\n",
    "\n",
    "bilangan"
   ]
  },
  {
   "cell_type": "code",
   "execution_count": 175,
   "id": "a80cc0df",
   "metadata": {},
   "outputs": [
    {
     "data": {
      "text/plain": [
       "[400, 34, 30, 23, 23, 14, 12, 5, 1]"
      ]
     },
     "execution_count": 175,
     "metadata": {},
     "output_type": "execute_result"
    }
   ],
   "source": [
    "bilangan.reverse()\n",
    "bilangan"
   ]
  },
  {
   "cell_type": "code",
   "execution_count": null,
   "id": "e1c4851b",
   "metadata": {},
   "outputs": [],
   "source": []
  },
  {
   "cell_type": "code",
   "execution_count": 67,
   "id": "2841baf6",
   "metadata": {},
   "outputs": [],
   "source": [
    "# nested list\n",
    "prima= [1, 2, 4, 6, 10, [2, 3, 5, 7]] "
   ]
  },
  {
   "cell_type": "code",
   "execution_count": 202,
   "id": "783f6b74",
   "metadata": {},
   "outputs": [
    {
     "data": {
      "text/plain": [
       "[2, 3, 5, 7]"
      ]
     },
     "execution_count": 202,
     "metadata": {},
     "output_type": "execute_result"
    }
   ],
   "source": [
    "prima[5]"
   ]
  },
  {
   "cell_type": "code",
   "execution_count": 203,
   "id": "70d2e8f1",
   "metadata": {},
   "outputs": [
    {
     "data": {
      "text/plain": [
       "5"
      ]
     },
     "execution_count": 203,
     "metadata": {},
     "output_type": "execute_result"
    }
   ],
   "source": [
    "prima[5][2]"
   ]
  },
  {
   "cell_type": "code",
   "execution_count": 179,
   "id": "a521df6c",
   "metadata": {},
   "outputs": [
    {
     "data": {
      "text/plain": [
       "5"
      ]
     },
     "execution_count": 179,
     "metadata": {},
     "output_type": "execute_result"
    }
   ],
   "source": [
    "nilai_5 = prima[5][2]\n",
    "nilai_5"
   ]
  },
  {
   "cell_type": "code",
   "execution_count": null,
   "id": "1222f212",
   "metadata": {},
   "outputs": [],
   "source": []
  },
  {
   "cell_type": "code",
   "execution_count": null,
   "id": "7c20d046",
   "metadata": {},
   "outputs": [],
   "source": []
  },
  {
   "cell_type": "code",
   "execution_count": null,
   "id": "0338758f",
   "metadata": {},
   "outputs": [],
   "source": []
  },
  {
   "cell_type": "code",
   "execution_count": null,
   "id": "38e0bf36",
   "metadata": {},
   "outputs": [],
   "source": []
  },
  {
   "cell_type": "code",
   "execution_count": 70,
   "id": "a030f1d7",
   "metadata": {},
   "outputs": [
    {
     "data": {
      "text/plain": [
       "5"
      ]
     },
     "execution_count": 70,
     "metadata": {},
     "output_type": "execute_result"
    }
   ],
   "source": [
    "prima[5][2]"
   ]
  },
  {
   "cell_type": "code",
   "execution_count": 180,
   "id": "c7635d03",
   "metadata": {},
   "outputs": [],
   "source": [
    "ganjil = [1, 3, 5, 7 , 9]"
   ]
  },
  {
   "cell_type": "code",
   "execution_count": 181,
   "id": "1ef8750b",
   "metadata": {},
   "outputs": [],
   "source": [
    "genap = [2, 4 , 6, 8, 10]"
   ]
  },
  {
   "cell_type": "code",
   "execution_count": 182,
   "id": "f0df406d",
   "metadata": {},
   "outputs": [],
   "source": [
    "bilangan = ganjil + genap"
   ]
  },
  {
   "cell_type": "code",
   "execution_count": 183,
   "id": "ba14a469",
   "metadata": {},
   "outputs": [
    {
     "data": {
      "text/plain": [
       "[1, 3, 5, 7, 9, 2, 4, 6, 8, 10]"
      ]
     },
     "execution_count": 183,
     "metadata": {},
     "output_type": "execute_result"
    }
   ],
   "source": [
    "bilangan"
   ]
  },
  {
   "cell_type": "code",
   "execution_count": 185,
   "id": "d2963b34",
   "metadata": {},
   "outputs": [
    {
     "data": {
      "text/plain": [
       "[1, 2, 3, 4, 5, 6, 7, 8, 9, 10]"
      ]
     },
     "execution_count": 185,
     "metadata": {},
     "output_type": "execute_result"
    }
   ],
   "source": [
    "bilangan.sort()\n",
    "bilangan"
   ]
  },
  {
   "cell_type": "code",
   "execution_count": 189,
   "id": "170cc51e",
   "metadata": {},
   "outputs": [
    {
     "data": {
      "text/plain": [
       "[10, 9, 8, 7, 6, 5, 4, 3, 2, 1]"
      ]
     },
     "execution_count": 189,
     "metadata": {},
     "output_type": "execute_result"
    }
   ],
   "source": [
    "bilangan.reverse()\n",
    "bilangan"
   ]
  },
  {
   "cell_type": "code",
   "execution_count": 190,
   "id": "a51955a2",
   "metadata": {},
   "outputs": [],
   "source": [
    "genap = [2, 4 , 6, 8, 10]"
   ]
  },
  {
   "cell_type": "code",
   "execution_count": null,
   "id": "ef81718c",
   "metadata": {},
   "outputs": [],
   "source": [
    "ganjil = [1, 3, 5, 7 , 9]"
   ]
  },
  {
   "cell_type": "code",
   "execution_count": 196,
   "id": "2f93d326",
   "metadata": {},
   "outputs": [],
   "source": [
    "nama = [\"otong\"]"
   ]
  },
  {
   "cell_type": "code",
   "execution_count": 197,
   "id": "00ecf3d7",
   "metadata": {},
   "outputs": [],
   "source": [
    "bilangan2 = [ganjil, genap, nama]"
   ]
  },
  {
   "cell_type": "code",
   "execution_count": 198,
   "id": "a560d30f",
   "metadata": {},
   "outputs": [
    {
     "data": {
      "text/plain": [
       "[[1, 3, 5, 7, 9], [2, 4, 6, 8, 10], ['otong']]"
      ]
     },
     "execution_count": 198,
     "metadata": {},
     "output_type": "execute_result"
    }
   ],
   "source": [
    "bilangan2"
   ]
  },
  {
   "cell_type": "code",
   "execution_count": null,
   "id": "91de6de5",
   "metadata": {},
   "outputs": [],
   "source": []
  },
  {
   "cell_type": "code",
   "execution_count": 199,
   "id": "c86b9f04",
   "metadata": {
    "scrolled": true
   },
   "outputs": [
    {
     "name": "stdout",
     "output_type": "stream",
     "text": [
      "1\n",
      "3\n",
      "5\n",
      "7\n",
      "9\n"
     ]
    }
   ],
   "source": [
    "for i in ganjil:\n",
    "    print(i)"
   ]
  },
  {
   "cell_type": "code",
   "execution_count": 200,
   "id": "874afeee",
   "metadata": {},
   "outputs": [
    {
     "name": "stdout",
     "output_type": "stream",
     "text": [
      "2\n",
      "4\n",
      "6\n",
      "8\n",
      "10\n"
     ]
    }
   ],
   "source": [
    "for angka in genap:\n",
    "    print(angka)"
   ]
  },
  {
   "cell_type": "code",
   "execution_count": 201,
   "id": "b7bf28b9",
   "metadata": {},
   "outputs": [
    {
     "name": "stdout",
     "output_type": "stream",
     "text": [
      "2 merupakan angka genap\n",
      "4 merupakan angka genap\n",
      "6 merupakan angka genap\n",
      "8 merupakan angka genap\n",
      "10 merupakan angka genap\n"
     ]
    }
   ],
   "source": [
    "for i in genap:\n",
    "    print(i, \"merupakan angka genap\")"
   ]
  },
  {
   "cell_type": "markdown",
   "id": "dfb87de1",
   "metadata": {},
   "source": [
    "### e. tuple"
   ]
  },
  {
   "cell_type": "markdown",
   "id": "f2cee906",
   "metadata": {},
   "source": [
    "\n",
    "- Tuple adalah 1 dari 4 tipe data kolektif pada python yang berguna untuk menyimpan lebih dari satu nilai dalam satu   variabel secara sekaligus [1].\n",
    "\n",
    "- Tuple bersifat ordered (terurut) dan juga bersifat unchangable (tidak bisa diubah). Ordered berarti datanya bisa kita akses menggunakan indeks, dan unchangeable berarti datanya tidak akan pernah bisa diubah setelah pertama kali definisikan.\n",
    "\n",
    "- Dalam python, tipe data tuple didefinisikan dengan tanda kurung ()"
   ]
  },
  {
   "cell_type": "markdown",
   "id": "9b2bcd37",
   "metadata": {},
   "source": [
    "Apa bedanya Tuple dengan List?\n",
    "Tuple sama saja dengan list. Dia sama-sama digunakan untuk menyimpan data himpunan. Sama-sama bisa menampung berbagai macam tipe data dalam satu himpunan. Hanya saja setelah diberi nilai, tuple tidak bisa diubah lagi. Hal ini berbeda dengan list.\n",
    "\n",
    "Dari segi penulisan, list menggunakan kurung siku [] sedangkan tuple menggunakan kurung biasa ()"
   ]
  },
  {
   "cell_type": "code",
   "execution_count": 204,
   "id": "fc1e8440",
   "metadata": {},
   "outputs": [],
   "source": [
    "Tuple_jenis_kelamin = ('pria', 'wanita')"
   ]
  },
  {
   "cell_type": "code",
   "execution_count": 205,
   "id": "c3b43cd3",
   "metadata": {},
   "outputs": [
    {
     "data": {
      "text/plain": [
       "tuple"
      ]
     },
     "execution_count": 205,
     "metadata": {},
     "output_type": "execute_result"
    }
   ],
   "source": [
    "type(Tuple_jenis_kelamin)"
   ]
  },
  {
   "cell_type": "code",
   "execution_count": 212,
   "id": "0f505d74",
   "metadata": {},
   "outputs": [],
   "source": [
    "status = 'jomlo', 'single', ' menikah'"
   ]
  },
  {
   "cell_type": "code",
   "execution_count": 96,
   "id": "f32a8c61",
   "metadata": {},
   "outputs": [
    {
     "data": {
      "text/plain": [
       "tuple"
      ]
     },
     "execution_count": 96,
     "metadata": {},
     "output_type": "execute_result"
    }
   ],
   "source": [
    "type(status)"
   ]
  },
  {
   "cell_type": "code",
   "execution_count": 207,
   "id": "04d4260c",
   "metadata": {},
   "outputs": [],
   "source": [
    "buku = tuple(['mat', 'kim', 'bio', 'fis'])"
   ]
  },
  {
   "cell_type": "code",
   "execution_count": 208,
   "id": "628d5297",
   "metadata": {},
   "outputs": [
    {
     "data": {
      "text/plain": [
       "tuple"
      ]
     },
     "execution_count": 208,
     "metadata": {},
     "output_type": "execute_result"
    }
   ],
   "source": [
    "type(buku)"
   ]
  },
  {
   "cell_type": "code",
   "execution_count": 214,
   "id": "bb49f6f5",
   "metadata": {},
   "outputs": [
    {
     "data": {
      "text/plain": [
       "('jomlo', 'single', ' menikah')"
      ]
     },
     "execution_count": 214,
     "metadata": {},
     "output_type": "execute_result"
    }
   ],
   "source": [
    "status"
   ]
  },
  {
   "cell_type": "code",
   "execution_count": 215,
   "id": "246649e3",
   "metadata": {},
   "outputs": [
    {
     "ename": "TypeError",
     "evalue": "'tuple' object does not support item assignment",
     "output_type": "error",
     "traceback": [
      "\u001b[1;31m---------------------------------------------------------------------------\u001b[0m",
      "\u001b[1;31mTypeError\u001b[0m                                 Traceback (most recent call last)",
      "Input \u001b[1;32mIn [215]\u001b[0m, in \u001b[0;36m<cell line: 1>\u001b[1;34m()\u001b[0m\n\u001b[1;32m----> 1\u001b[0m status[\u001b[38;5;241m1\u001b[39m] \u001b[38;5;241m=\u001b[39m \u001b[38;5;124m\"\u001b[39m\u001b[38;5;124mmenikah\u001b[39m\u001b[38;5;124m\"\u001b[39m\n",
      "\u001b[1;31mTypeError\u001b[0m: 'tuple' object does not support item assignment"
     ]
    }
   ],
   "source": [
    "status[1] = \"menikah\""
   ]
  },
  {
   "cell_type": "markdown",
   "id": "53825843",
   "metadata": {},
   "source": [
    "### f. dictionary "
   ]
  },
  {
   "cell_type": "markdown",
   "id": "da7dc40b",
   "metadata": {},
   "source": [
    "Dictionary adalah tipe data pada python yang berfungsi untuk menyimpan kumpulan data/nilai dengan pendekatan “key-value”."
   ]
  },
  {
   "cell_type": "markdown",
   "id": "c505f2b6",
   "metadata": {},
   "source": [
    "Dictionary items memiliki 3 sifat, yaitu:\n",
    "\n",
    "- Unordered - tidak berurutan\n",
    "- Changeable - bisa diubah\n",
    "- Unique - alias tidak bisa menerima dua keys yang sama"
   ]
  },
  {
   "cell_type": "code",
   "execution_count": null,
   "id": "0f8dce0c",
   "metadata": {},
   "outputs": [],
   "source": [
    "'''\n",
    "nama : alfianri\n",
    "Nim  :1234\n",
    "Prodi: sains data\n",
    "\n",
    "'''"
   ]
  },
  {
   "cell_type": "code",
   "execution_count": 260,
   "id": "3398aa2e",
   "metadata": {},
   "outputs": [],
   "source": [
    "biodata = {\"nama\": \"budi\",\n",
    "            \"Nim\": 1234,\n",
    "            \"prodi\":\"sains data\"\n",
    "}"
   ]
  },
  {
   "cell_type": "code",
   "execution_count": 250,
   "id": "05b68f53",
   "metadata": {},
   "outputs": [
    {
     "data": {
      "text/plain": [
       "{'nama': 'budi', 'Nim': 1234, 'prodi': 'sains data'}"
      ]
     },
     "execution_count": 250,
     "metadata": {},
     "output_type": "execute_result"
    }
   ],
   "source": [
    "biodata"
   ]
  },
  {
   "cell_type": "code",
   "execution_count": 251,
   "id": "71fc3e80",
   "metadata": {},
   "outputs": [
    {
     "data": {
      "text/plain": [
       "dict"
      ]
     },
     "execution_count": 251,
     "metadata": {},
     "output_type": "execute_result"
    }
   ],
   "source": [
    "type(biodata)"
   ]
  },
  {
   "cell_type": "code",
   "execution_count": 252,
   "id": "1a5e0485",
   "metadata": {},
   "outputs": [
    {
     "data": {
      "text/plain": [
       "'budi'"
      ]
     },
     "execution_count": 252,
     "metadata": {},
     "output_type": "execute_result"
    }
   ],
   "source": [
    "biodata.get('nama')"
   ]
  },
  {
   "cell_type": "code",
   "execution_count": 253,
   "id": "3da5cd86",
   "metadata": {},
   "outputs": [
    {
     "data": {
      "text/plain": [
       "'sains data'"
      ]
     },
     "execution_count": 253,
     "metadata": {},
     "output_type": "execute_result"
    }
   ],
   "source": [
    "biodata.get(\"prodi\")"
   ]
  },
  {
   "cell_type": "code",
   "execution_count": 267,
   "id": "ce4a50ff",
   "metadata": {},
   "outputs": [
    {
     "data": {
      "text/plain": [
       "('sains data', 'Nim')"
      ]
     },
     "execution_count": 267,
     "metadata": {},
     "output_type": "execute_result"
    }
   ],
   "source": [
    "biodata.get(\"prodi\"),(\"Nim\")"
   ]
  },
  {
   "cell_type": "code",
   "execution_count": 15,
   "id": "b5510c28",
   "metadata": {},
   "outputs": [
    {
     "data": {
      "text/plain": [
       "'otong'"
      ]
     },
     "execution_count": 15,
     "metadata": {},
     "output_type": "execute_result"
    }
   ],
   "source": [
    "biodata['nama']"
   ]
  },
  {
   "cell_type": "code",
   "execution_count": 24,
   "id": "122ffc57",
   "metadata": {},
   "outputs": [
    {
     "data": {
      "text/plain": [
       "12345"
      ]
     },
     "execution_count": 24,
     "metadata": {},
     "output_type": "execute_result"
    }
   ],
   "source": [
    "biodata.get(\"nim\")"
   ]
  },
  {
   "cell_type": "code",
   "execution_count": 268,
   "id": "a3907bf6",
   "metadata": {},
   "outputs": [],
   "source": [
    "# cara kedua\n",
    "buku = dict(\n",
    "  judul=\"antara dia dan kamu\",\n",
    "  penulis=\"pesulap merah\"\n",
    ")"
   ]
  },
  {
   "cell_type": "code",
   "execution_count": 269,
   "id": "459964e7",
   "metadata": {},
   "outputs": [
    {
     "data": {
      "text/plain": [
       "{'judul': 'antara dia dan kamu', 'penulis': 'pesulap merah'}"
      ]
     },
     "execution_count": 269,
     "metadata": {},
     "output_type": "execute_result"
    }
   ],
   "source": [
    "# mengubah nilai item\n",
    "buku"
   ]
  },
  {
   "cell_type": "code",
   "execution_count": 270,
   "id": "f8d357bd",
   "metadata": {},
   "outputs": [
    {
     "data": {
      "text/plain": [
       "dict"
      ]
     },
     "execution_count": 270,
     "metadata": {},
     "output_type": "execute_result"
    }
   ],
   "source": [
    "type(buku)"
   ]
  },
  {
   "cell_type": "code",
   "execution_count": 271,
   "id": "6c70c686",
   "metadata": {},
   "outputs": [],
   "source": [
    "buku['judul'] = \"python for data science\""
   ]
  },
  {
   "cell_type": "code",
   "execution_count": 272,
   "id": "e04fdfd0",
   "metadata": {},
   "outputs": [
    {
     "data": {
      "text/plain": [
       "{'judul': 'python for data science', 'penulis': 'pesulap merah'}"
      ]
     },
     "execution_count": 272,
     "metadata": {},
     "output_type": "execute_result"
    }
   ],
   "source": [
    "buku"
   ]
  },
  {
   "cell_type": "code",
   "execution_count": 273,
   "id": "1cb00d9b",
   "metadata": {},
   "outputs": [],
   "source": [
    "buku['tahun'] = 2022"
   ]
  },
  {
   "cell_type": "code",
   "execution_count": 274,
   "id": "d650f5d1",
   "metadata": {},
   "outputs": [
    {
     "data": {
      "text/plain": [
       "{'judul': 'python for data science', 'penulis': 'pesulap merah', 'tahun': 2022}"
      ]
     },
     "execution_count": 274,
     "metadata": {},
     "output_type": "execute_result"
    }
   ],
   "source": [
    "buku"
   ]
  },
  {
   "cell_type": "code",
   "execution_count": 275,
   "id": "2ad24b8e",
   "metadata": {},
   "outputs": [
    {
     "data": {
      "text/plain": [
       "2022"
      ]
     },
     "execution_count": 275,
     "metadata": {},
     "output_type": "execute_result"
    }
   ],
   "source": [
    "buku.pop('tahun')"
   ]
  },
  {
   "cell_type": "code",
   "execution_count": 276,
   "id": "56438f28",
   "metadata": {},
   "outputs": [
    {
     "data": {
      "text/plain": [
       "{'judul': 'python for data science', 'penulis': 'pesulap merah'}"
      ]
     },
     "execution_count": 276,
     "metadata": {},
     "output_type": "execute_result"
    }
   ],
   "source": [
    "buku"
   ]
  },
  {
   "cell_type": "code",
   "execution_count": 34,
   "id": "1f1c7a6a",
   "metadata": {},
   "outputs": [],
   "source": [
    "del buku['tahun']"
   ]
  },
  {
   "cell_type": "code",
   "execution_count": 35,
   "id": "c8b1433d",
   "metadata": {},
   "outputs": [
    {
     "data": {
      "text/plain": [
       "{'judul': 'python for data science', 'penulis': 'pesulap merah'}"
      ]
     },
     "execution_count": 35,
     "metadata": {},
     "output_type": "execute_result"
    }
   ],
   "source": [
    "buku"
   ]
  },
  {
   "cell_type": "markdown",
   "id": "8e96b07f",
   "metadata": {},
   "source": [
    "### g. bolean"
   ]
  },
  {
   "cell_type": "markdown",
   "id": "61cd69e6",
   "metadata": {},
   "source": [
    "boolean merupakan tipe data yang hanya dapat memuat 2 nilai yaitu true dan false. Tipe data ini sangat berguna dalam penyusunan algoritma pemrograman khususnya ketika kita mulai berurusan dengan kondisi dan perulangan.\n"
   ]
  },
  {
   "cell_type": "code",
   "execution_count": 278,
   "id": "235e3efa",
   "metadata": {},
   "outputs": [],
   "source": [
    "a = True\n",
    "b = False"
   ]
  },
  {
   "cell_type": "code",
   "execution_count": 279,
   "id": "5ac3b579",
   "metadata": {},
   "outputs": [
    {
     "data": {
      "text/plain": [
       "bool"
      ]
     },
     "execution_count": 279,
     "metadata": {},
     "output_type": "execute_result"
    }
   ],
   "source": [
    "type(a)\n",
    "type(b)"
   ]
  },
  {
   "cell_type": "code",
   "execution_count": 280,
   "id": "2a557e8c",
   "metadata": {},
   "outputs": [
    {
     "name": "stdout",
     "output_type": "stream",
     "text": [
      "True False\n"
     ]
    }
   ],
   "source": [
    "print(a,b)"
   ]
  },
  {
   "cell_type": "code",
   "execution_count": 281,
   "id": "4ab7cd94",
   "metadata": {},
   "outputs": [
    {
     "data": {
      "text/plain": [
       "True"
      ]
     },
     "execution_count": 281,
     "metadata": {},
     "output_type": "execute_result"
    }
   ],
   "source": [
    "20 > 19\n"
   ]
  },
  {
   "cell_type": "code",
   "execution_count": 282,
   "id": "1598f56c",
   "metadata": {},
   "outputs": [
    {
     "data": {
      "text/plain": [
       "False"
      ]
     },
     "execution_count": 282,
     "metadata": {},
     "output_type": "execute_result"
    }
   ],
   "source": [
    "20 < 19"
   ]
  },
  {
   "cell_type": "code",
   "execution_count": 283,
   "id": "26773d93",
   "metadata": {},
   "outputs": [
    {
     "data": {
      "text/plain": [
       "False"
      ]
     },
     "execution_count": 283,
     "metadata": {},
     "output_type": "execute_result"
    }
   ],
   "source": [
    "2000 < 9"
   ]
  },
  {
   "cell_type": "code",
   "execution_count": 285,
   "id": "7dca81f8",
   "metadata": {},
   "outputs": [],
   "source": [
    "a = 10"
   ]
  },
  {
   "cell_type": "code",
   "execution_count": 287,
   "id": "d1c6c2e3",
   "metadata": {},
   "outputs": [
    {
     "data": {
      "text/plain": [
       "True"
      ]
     },
     "execution_count": 287,
     "metadata": {},
     "output_type": "execute_result"
    }
   ],
   "source": [
    "a == 10"
   ]
  },
  {
   "cell_type": "code",
   "execution_count": null,
   "id": "94859e65",
   "metadata": {},
   "outputs": [],
   "source": []
  },
  {
   "cell_type": "code",
   "execution_count": 288,
   "id": "b1383290",
   "metadata": {},
   "outputs": [
    {
     "data": {
      "text/plain": [
       "True"
      ]
     },
     "execution_count": 288,
     "metadata": {},
     "output_type": "execute_result"
    }
   ],
   "source": [
    "9*9 == 3**4\n"
   ]
  },
  {
   "cell_type": "code",
   "execution_count": 305,
   "id": "f1729d92",
   "metadata": {},
   "outputs": [
    {
     "data": {
      "text/plain": [
       "True"
      ]
     },
     "execution_count": 305,
     "metadata": {},
     "output_type": "execute_result"
    }
   ],
   "source": [
    "\"Inva\" == \"Inva\""
   ]
  },
  {
   "cell_type": "code",
   "execution_count": 304,
   "id": "ba787468",
   "metadata": {},
   "outputs": [
    {
     "data": {
      "text/plain": [
       "True"
      ]
     },
     "execution_count": 304,
     "metadata": {},
     "output_type": "execute_result"
    }
   ],
   "source": [
    " \"Soto\" != \"Sate\""
   ]
  },
  {
   "cell_type": "code",
   "execution_count": 292,
   "id": "bcdfdd68",
   "metadata": {},
   "outputs": [
    {
     "data": {
      "text/plain": [
       "False"
      ]
     },
     "execution_count": 292,
     "metadata": {},
     "output_type": "execute_result"
    }
   ],
   "source": [
    "1 != 2-1"
   ]
  },
  {
   "cell_type": "code",
   "execution_count": 306,
   "id": "b28846a2",
   "metadata": {},
   "outputs": [
    {
     "data": {
      "text/plain": [
       "False"
      ]
     },
     "execution_count": 306,
     "metadata": {},
     "output_type": "execute_result"
    }
   ],
   "source": [
    "\"soto\" == \"sate\""
   ]
  },
  {
   "cell_type": "code",
   "execution_count": 51,
   "id": "fd4d4fa7",
   "metadata": {},
   "outputs": [
    {
     "data": {
      "text/plain": [
       "False"
      ]
     },
     "execution_count": 51,
     "metadata": {},
     "output_type": "execute_result"
    }
   ],
   "source": [
    "2>0 and 9<10 # True AND True = True\n",
    "2<0 and 9>10 # False AND True = False\n",
    "2<0 or 9>10 # False OR True = True\n",
    "not(True or False) # not(True) = False"
   ]
  },
  {
   "cell_type": "code",
   "execution_count": 296,
   "id": "cfc31654",
   "metadata": {},
   "outputs": [
    {
     "data": {
      "text/plain": [
       "True"
      ]
     },
     "execution_count": 296,
     "metadata": {},
     "output_type": "execute_result"
    }
   ],
   "source": [
    "2>1 and 8<10"
   ]
  },
  {
   "cell_type": "code",
   "execution_count": 297,
   "id": "1b386f94",
   "metadata": {},
   "outputs": [
    {
     "data": {
      "text/plain": [
       "False"
      ]
     },
     "execution_count": 297,
     "metadata": {},
     "output_type": "execute_result"
    }
   ],
   "source": [
    "3<0 and 1>-2"
   ]
  },
  {
   "cell_type": "code",
   "execution_count": 300,
   "id": "4ee9062e",
   "metadata": {},
   "outputs": [
    {
     "data": {
      "text/plain": [
       "True"
      ]
     },
     "execution_count": 300,
     "metadata": {},
     "output_type": "execute_result"
    }
   ],
   "source": [
    "2>4  or 3<6"
   ]
  },
  {
   "cell_type": "code",
   "execution_count": 303,
   "id": "6107a8e1",
   "metadata": {},
   "outputs": [
    {
     "data": {
      "text/plain": [
       "False"
      ]
     },
     "execution_count": 303,
     "metadata": {},
     "output_type": "execute_result"
    }
   ],
   "source": [
    "not ( 3< 10 or 2>1)"
   ]
  },
  {
   "cell_type": "code",
   "execution_count": 4,
   "id": "a226fb80",
   "metadata": {},
   "outputs": [
    {
     "ename": "ValueError",
     "evalue": "could not convert string to float: 'Masukkan nama anda: '",
     "output_type": "error",
     "traceback": [
      "\u001b[1;31m---------------------------------------------------------------------------\u001b[0m",
      "\u001b[1;31mValueError\u001b[0m                                Traceback (most recent call last)",
      "Input \u001b[1;32mIn [4]\u001b[0m, in \u001b[0;36m<cell line: 1>\u001b[1;34m()\u001b[0m\n\u001b[1;32m----> 1\u001b[0m nama \u001b[38;5;241m=\u001b[39m \u001b[38;5;28minput\u001b[39m(\u001b[38;5;28;43mfloat\u001b[39;49m\u001b[43m(\u001b[49m\u001b[38;5;124;43m'\u001b[39;49m\u001b[38;5;124;43mMasukkan nama anda: \u001b[39;49m\u001b[38;5;124;43m'\u001b[39;49m\u001b[43m)\u001b[49m)\n\u001b[0;32m      2\u001b[0m Prodi \u001b[38;5;241m=\u001b[39m \u001b[38;5;28minput\u001b[39m(\u001b[38;5;28mfloat\u001b[39m(\u001b[38;5;124m\"\u001b[39m\u001b[38;5;124mmasukkan NIM kamu : \u001b[39m\u001b[38;5;124m\"\u001b[39m))\n\u001b[0;32m      4\u001b[0m \u001b[38;5;28mprint\u001b[39m(\u001b[38;5;124m'\u001b[39m\u001b[38;5;124mselamat anda lulus di itera\u001b[39m\u001b[38;5;124m'\u001b[39m)\n",
      "\u001b[1;31mValueError\u001b[0m: could not convert string to float: 'Masukkan nama anda: '"
     ]
    }
   ],
   "source": [
    "nama = input(float('Masukkan nama anda: '))\n",
    "Prodi = input(float(\"masukkan NIM kamu : \"))\n",
    "\n",
    "print('selamat anda lulus di itera')"
   ]
  },
  {
   "cell_type": "code",
   "execution_count": 5,
   "id": "4043ba94",
   "metadata": {},
   "outputs": [
    {
     "name": "stdout",
     "output_type": "stream",
     "text": [
      "Masukkan panjang Persegi: 10\n",
      "Masukkan lebar : 30\n"
     ]
    },
    {
     "ename": "TypeError",
     "evalue": "can't multiply sequence by non-int of type 'str'",
     "output_type": "error",
     "traceback": [
      "\u001b[1;31m---------------------------------------------------------------------------\u001b[0m",
      "\u001b[1;31mTypeError\u001b[0m                                 Traceback (most recent call last)",
      "Input \u001b[1;32mIn [5]\u001b[0m, in \u001b[0;36m<cell line: 4>\u001b[1;34m()\u001b[0m\n\u001b[0;32m      1\u001b[0m panjang \u001b[38;5;241m=\u001b[39m \u001b[38;5;28minput\u001b[39m((\u001b[38;5;124m'\u001b[39m\u001b[38;5;124mMasukkan panjang Persegi: \u001b[39m\u001b[38;5;124m'\u001b[39m))\n\u001b[0;32m      2\u001b[0m lebar \u001b[38;5;241m=\u001b[39m \u001b[38;5;28minput\u001b[39m((\u001b[38;5;124m'\u001b[39m\u001b[38;5;124mMasukkan lebar : \u001b[39m\u001b[38;5;124m'\u001b[39m))\n\u001b[1;32m----> 4\u001b[0m \u001b[38;5;28mprint\u001b[39m(\u001b[38;5;124m\"\u001b[39m\u001b[38;5;124mluas persegi panjang adalah:\u001b[39m\u001b[38;5;124m\"\u001b[39m,\u001b[43mpanjang\u001b[49m\u001b[38;5;241;43m*\u001b[39;49m\u001b[43mlebar\u001b[49m)\n",
      "\u001b[1;31mTypeError\u001b[0m: can't multiply sequence by non-int of type 'str'"
     ]
    }
   ],
   "source": [
    "panjang = input(('Masukkan panjang Persegi: '))\n",
    "lebar = input(('Masukkan lebar : '))\n",
    "\n",
    "print(\"luas persegi panjang adalah:\" ,panjang*lebar)"
   ]
  },
  {
   "cell_type": "code",
   "execution_count": null,
   "id": "17576295",
   "metadata": {},
   "outputs": [],
   "source": []
  }
 ],
 "metadata": {
  "kernelspec": {
   "display_name": "Python 3 (ipykernel)",
   "language": "python",
   "name": "python3"
  },
  "language_info": {
   "codemirror_mode": {
    "name": "ipython",
    "version": 3
   },
   "file_extension": ".py",
   "mimetype": "text/x-python",
   "name": "python",
   "nbconvert_exporter": "python",
   "pygments_lexer": "ipython3",
   "version": "3.9.12"
  }
 },
 "nbformat": 4,
 "nbformat_minor": 5
}
